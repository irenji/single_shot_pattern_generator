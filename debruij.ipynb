{
 "cells": [
  {
   "cell_type": "code",
   "execution_count": null,
   "id": "383fa20b-3790-465a-8a39-560ebd319446",
   "metadata": {},
   "outputs": [],
   "source": [
    "import cv2 as cv\n",
    "import numpy as np\n",
    "from matplotlib import pyplot as plt"
   ]
  },
  {
   "cell_type": "code",
   "execution_count": null,
   "id": "2d897f8f-8977-46e4-b516-0d4073372056",
   "metadata": {},
   "outputs": [],
   "source": [
    "def de_bruijn(k, n):\n",
    "    try:\n",
    "        # let's see if k can be cast to an integer;\n",
    "        # if so, make our alphabet a list\n",
    "        _ = int(k)\n",
    "        if k > 26:\n",
    "            raise ValueError(\"k cannot exceed 26\")\n",
    "\n",
    "        alphabet = [str(i) if i<10 else chr(ord('A') + i - 10) for i in range(k)]\n",
    "\n",
    "    except (ValueError, TypeError):\n",
    "        alphabet = k\n",
    "        k = len(k)\n",
    "\n",
    "    a = [0] * k * n\n",
    "    sequence = []\n",
    "\n",
    "    def db(t, p):\n",
    "        if t > n:\n",
    "            if n % p == 0:\n",
    "                sequence.extend(a[1:p + 1])\n",
    "        else:\n",
    "            a[t] = a[t - p]\n",
    "            db(t + 1, p)\n",
    "            for j in range(a[t - p] + 1, k):\n",
    "                a[t] = j\n",
    "                db(t + 1, t)\n",
    "    db(1, 1)\n",
    "    return \"\".join(alphabet[i] for i in sequence)"
   ]
  },
  {
   "cell_type": "code",
   "execution_count": 136,
   "id": "2956020e-f250-445e-9b08-930bd31dc475",
   "metadata": {},
   "outputs": [],
   "source": [
    "def pattern_generator(stripe_width, stripe_gap, sequence, colors):\n",
    "    width = len(sequence) * 20\n",
    "    height = width\n",
    "    image = np.zeros((height, width, 3), np.uint8)\n",
    "    \n",
    "    for col in range(width):\n",
    "        step = int(col / (stripe_width + stripe_gap))\n",
    "        pixel = col % (stripe_width + stripe_gap)\n",
    "\n",
    "        seq = sequence[step]\n",
    "        color = colors[int(seq)]\n",
    "        \n",
    "        if pixel > stripe_gap:\n",
    "            image[:, col] = color\n",
    "        else:\n",
    "            image[:, col] = (0, 0, 0) # set black\n",
    "    return image\n"
   ]
  },
  {
   "cell_type": "code",
   "execution_count": 137,
   "id": "9b9d3539-28f0-4e80-8a96-e2fd06269d3f",
   "metadata": {},
   "outputs": [],
   "source": [
    "patterns = (de_bruijn(3, 5))"
   ]
  },
  {
   "cell_type": "code",
   "execution_count": 138,
   "id": "d9a914bc-e280-496b-ac6d-4d1828d886c9",
   "metadata": {},
   "outputs": [
    {
     "data": {
      "text/plain": [
       "243"
      ]
     },
     "execution_count": 138,
     "metadata": {},
     "output_type": "execute_result"
    }
   ],
   "source": [
    "len(patterns)"
   ]
  },
  {
   "cell_type": "code",
   "execution_count": 139,
   "id": "9eef485a-3ba7-4f83-988b-887e6ef0ed4a",
   "metadata": {},
   "outputs": [
    {
     "name": "stdout",
     "output_type": "stream",
     "text": [
      "000001000020001100012000210002200101001020011100112001210012200201002020021100212002210022201011010120102101022011020111101112011210112201202012110121201221012220202102022021110211202121021220221102212022210222211111211122112121122212122122222 ,\n"
     ]
    }
   ],
   "source": [
    "print(patterns, \",\")"
   ]
  },
  {
   "cell_type": "code",
   "execution_count": 140,
   "id": "73c7158b-5430-44d3-80b1-781bba352513",
   "metadata": {
    "scrolled": true
   },
   "outputs": [
    {
     "name": "stdout",
     "output_type": "stream",
     "text": [
      "0,0,0,0,0,1,0,0,0,0,2,0,0,0,1,1,0,0,0,1,2,0,0,0,2,1,0,0,0,2,2,0,0,1,0,1,0,0,1,0,2,0,0,1,1,1,0,0,1,1,2,0,0,1,2,1,0,0,1,2,2,0,0,2,0,1,0,0,2,0,2,0,0,2,1,1,0,0,2,1,2,0,0,2,2,1,0,0,2,2,2,0,1,0,1,1,0,1,0,1,2,0,1,0,2,1,0,1,0,2,2,0,1,1,0,2,0,1,1,1,1,0,1,1,1,2,0,1,1,2,1,0,1,1,2,2,0,1,2,0,2,0,1,2,1,1,0,1,2,1,2,0,1,2,2,1,0,1,2,2,2,0,2,0,2,1,0,2,0,2,2,0,2,1,1,1,0,2,1,1,2,0,2,1,2,1,0,2,1,2,2,0,2,2,1,1,0,2,2,1,2,0,2,2,2,1,0,2,2,2,2,1,1,1,1,1,2,1,1,1,2,2,1,1,2,1,2,1,1,2,2,2,1,2,1,2,2,1,2,2,2,2,2\n"
     ]
    }
   ],
   "source": [
    "print (','.join(patterns))"
   ]
  },
  {
   "cell_type": "code",
   "execution_count": 142,
   "id": "db57d882-2e57-4feb-9342-d6d550adb767",
   "metadata": {},
   "outputs": [],
   "source": [
    "stripe_width = 10\n",
    "stripe_black_gap = 10"
   ]
  },
  {
   "cell_type": "code",
   "execution_count": 147,
   "id": "cfb23921-f269-4102-ad7f-521ae5830398",
   "metadata": {},
   "outputs": [
    {
     "data": {
      "text/plain": [
       "<matplotlib.image.AxesImage at 0x7f843ea6b8b0>"
      ]
     },
     "execution_count": 147,
     "metadata": {},
     "output_type": "execute_result"
    },
    {
     "data": {
      "image/png": "[encoded data removed]",
      "text/plain": [
       "<Figure size 432x288 with 1 Axes>"
      ]
     },
     "metadata": {
      "needs_background": "light"
     },
     "output_type": "display_data"
    }
   ],
   "source": [
    "colors = [(255,0,0), (0, 255,0), (255, 255,0)]\n",
    "image = pattern_generator(stripe_width, stripe_black_gap, patterns, colors)\n",
    "plt.imshow(image)"
   ]
  },
  {
   "cell_type": "code",
   "execution_count": 146,
   "id": "b1f26d58-751e-401d-9568-301961d8b00c",
   "metadata": {},
   "outputs": [
    {
     "data": {
      "text/plain": [
       "True"
      ]
     },
     "execution_count": 146,
     "metadata": {},
     "output_type": "execute_result"
    }
   ],
   "source": [
    "cv.imwrite(\"patterns.png\", image)"
   ]
  },
  {
   "cell_type": "code",
   "execution_count": null,
   "id": "a410dcbc-72d4-4a72-8f76-26ef595f64da",
   "metadata": {},
   "outputs": [],
   "source": []
  }
 ],
 "metadata": {
  "kernelspec": {
   "display_name": "Python 3 (ipykernel)",
   "language": "python",
   "name": "python3"
  },
  "language_info": {
   "codemirror_mode": {
    "name": "ipython",
    "version": 3
   },
   "file_extension": ".py",
   "mimetype": "text/x-python",
   "name": "python",
   "nbconvert_exporter": "python",
   "pygments_lexer": "ipython3",
   "version": "3.10.12"
  }
 },
 "nbformat": 4,
 "nbformat_minor": 5
}
